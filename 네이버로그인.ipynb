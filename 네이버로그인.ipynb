{
 "cells": [
  {
   "cell_type": "code",
   "execution_count": null,
   "id": "65344e11",
   "metadata": {},
   "outputs": [
    {
     "name": "stdout",
     "output_type": "stream",
     "text": [
      "로그인 실패 또는 요소를 찾을 수 없습니다.\n"
     ]
    }
   ],
   "source": [
    "import pyperclip\n",
    "from selenium import webdriver\n",
    "from selenium.webdriver.chrome.service import Service\n",
    "from selenium.webdriver.common.by import By\n",
    "from selenium.webdriver.common.keys import Keys\n",
    "import time\n",
    "\n",
    "# 1. 크롬 드라이버 경로 설정 (크롬드라이버가 PATH에 있으면 생략 가능)\n",
    "# chromedriver_path = \"C:/path/to/chromedriver.exe\"\n",
    "# driver = webdriver.Chrome(executable_path=chromedriver_path)\n",
    "# driver = webdriver.Chrome()  # 크롬드라이버가 PATH에 있을 경우\n",
    "service = Service(\"C:/dev/chromedriver.exe\")\n",
    "driver = webdriver.Chrome(service=service)\n",
    "\n",
    "# 2. 네이버 로그인 페이지 접속\n",
    "driver.get(\"https://nid.naver.com/nidlogin.login\")\n",
    "\n",
    "# 3. 페이지가 완전히 로드될 때까지 잠시 대기\n",
    "time.sleep(2)\n",
    "\n",
    "id = \"reparty75\"\n",
    "pw = \"1q2w3e4r!\"\n",
    "# 4. 아이디 입력란 찾기 및 입력\n",
    "pyperclip.copy(id)\n",
    "id_input = driver.find_element(By.CSS_SELECTOR, \"#id\")\n",
    "id_input.clear()\n",
    "id_input.click()\n",
    "id_input.send_keys(Keys.CONTROL, \"v\")\n",
    "\n",
    "# 5. 비밀번호 입력란 찾기 및 입력\n",
    "pyperclip.copy(pw)\n",
    "pw_input = driver.find_element(By.CSS_SELECTOR, \"#pw\")\n",
    "pw_input.clear()\n",
    "pw_input.click()\n",
    "pw_input.send_keys(Keys.CONTROL, \"v\")\n",
    "\n",
    "# 6. 로그인 버튼 클릭\n",
    "login_btn = driver.find_element(By.CSS_SELECTOR, \"#log\\\\.login\")\n",
    "login_btn.click()\n",
    "\n",
    "# 7. 로그인 후 페이지가 로드될 때까지 대기 (필요에 따라 조정)\n",
    "time.sleep(5)\n",
    "\n",
    "# 로그인 성공 여부 확인 후 alert로 성공 메시지 띄우기\n",
    "\n",
    "from selenium.common.exceptions import NoSuchElementException\n",
    "\n",
    "try:\n",
    "    # 네이버 로그인 성공 시, 네이버 메인 페이지의 특정 요소(예: 프로필 아이콘 등)가 있는지 확인\n",
    "    # 여기서는 네이버 메인 로고가 있는지로 간단히 체크 (실제 서비스에 맞게 요소를 조정하세요)\n",
    "    driver.find_element(By.CSS_SELECTOR, \"a#NM_set_home\")  # 네이버 메인 로고\n",
    "    driver.execute_script(\"alert('로그인 성공');\")\n",
    "except NoSuchElementException:\n",
    "    print(\"로그인 실패 또는 요소를 찾을 수 없습니다.\")\n",
    "\n",
    "    # 네이버 증권 페이지로 이동하는 코드입니다.\n",
    "    # 네이버 증권 메인 페이지 URL로 이동합니다.\n",
    "    naver_finance_url = \"https://finance.naver.com/\"\n",
    "    driver.get(naver_finance_url)\n"
   ]
  }
 ],
 "metadata": {
  "kernelspec": {
   "display_name": ".venv",
   "language": "python",
   "name": "python3"
  },
  "language_info": {
   "codemirror_mode": {
    "name": "ipython",
    "version": 3
   },
   "file_extension": ".py",
   "mimetype": "text/x-python",
   "name": "python",
   "nbconvert_exporter": "python",
   "pygments_lexer": "ipython3",
   "version": "3.13.5"
  }
 },
 "nbformat": 4,
 "nbformat_minor": 5
}
